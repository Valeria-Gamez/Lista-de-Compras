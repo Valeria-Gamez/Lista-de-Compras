{
  "nbformat": 4,
  "nbformat_minor": 0,
  "metadata": {
    "colab": {
      "provenance": []
    },
    "kernelspec": {
      "name": "python3",
      "display_name": "Python 3"
    },
    "language_info": {
      "name": "python"
    }
  },
  "cells": [
    {
      "cell_type": "code",
      "source": [
        "def main():\n",
        "    productos = {}\n",
        "\n",
        "    print(\"Bienvenido a la tienda Freedom.\")\n",
        "\n",
        "    while True:\n",
        "        producto = input(\"Introduce el nombre del producto que desee comprar (o 'finalizado' para terminar): \")\n",
        "        if producto.lower() == 'finalizado':\n",
        "            break\n",
        "\n",
        "        try:\n",
        "            precio = float(input(f\"Introduce el precio de '{producto}': \"))\n",
        "            productos[producto] = precio\n",
        "        except ValueError:\n",
        "            print(\"Por favor, introduce un precio válido.\")\n",
        "\n",
        "    if productos:\n",
        "        print(\"\\nLista de compras:\")\n",
        "        total = 0\n",
        "        for producto, precio in productos.items():\n",
        "            print(f\"{producto}: LPS.{precio:.2f}\")\n",
        "            total += precio\n",
        "\n",
        "        print(f\"\\nTotal: LPS.{total:.2f}\")\n",
        "    else:\n",
        "        print(\"No se han añadido productos a la lista.\")\n",
        "\n",
        "if __name__ == \"__main__\":\n",
        "    main()"
      ],
      "metadata": {
        "id": "z18N10TDAl6t",
        "outputId": "a9b91d10-7399-4a14-ae57-d61d9b622da2",
        "colab": {
          "base_uri": "https://localhost:8080/"
        }
      },
      "execution_count": null,
      "outputs": [
        {
          "output_type": "stream",
          "name": "stdout",
          "text": [
            "Bienvenido a la tienda Freedom.\n",
            "Introduce el nombre del producto que desee comprar (o 'finalizado' para terminar): Marcadores Crayola\n",
            "Introduce el precio de 'Marcadores Crayola': 100\n",
            "Introduce el nombre del producto que desee comprar (o 'finalizado' para terminar): Asado de pollo\n",
            "Introduce el precio de 'Asado de pollo': 110\n",
            "Introduce el nombre del producto que desee comprar (o 'finalizado' para terminar): spirit shirt\n",
            "Introduce el precio de 'spirit shirt': 500\n",
            "Introduce el nombre del producto que desee comprar (o 'finalizado' para terminar): gatorade rojo\n",
            "Introduce el precio de 'gatorade rojo': 40\n",
            "Introduce el nombre del producto que desee comprar (o 'finalizado' para terminar): cuaderno caligrafia\n",
            "Introduce el precio de 'cuaderno caligrafia': 200\n",
            "Introduce el nombre del producto que desee comprar (o 'finalizado' para terminar): freedom jacket\n",
            "Introduce el precio de 'freedom jacket': 1100\n",
            "Introduce el nombre del producto que desee comprar (o 'finalizado' para terminar): muffin chocolate\n",
            "Introduce el precio de 'muffin chocolate': 15\n",
            "Introduce el nombre del producto que desee comprar (o 'finalizado' para terminar): finalizado\n",
            "\n",
            "Lista de compras:\n",
            "Marcadores Crayola: LPS.100.00\n",
            "Asado de pollo: LPS.110.00\n",
            "spirit shirt: LPS.500.00\n",
            "gatorade rojo: LPS.40.00\n",
            "cuaderno caligrafia: LPS.200.00\n",
            "freedom jacket: LPS.1100.00\n",
            "muffin chocolate: LPS.15.00\n",
            "\n",
            "Total: LPS.2065.00\n"
          ]
        }
      ]
    },
    {
      "cell_type": "code",
      "source": [],
      "metadata": {
        "id": "PynVNff0Boh_"
      },
      "execution_count": null,
      "outputs": []
    }
  ]
}